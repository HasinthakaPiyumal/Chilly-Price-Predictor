{
 "cells": [
  {
   "cell_type": "code",
   "execution_count": 5,
   "id": "d9e723c2",
   "metadata": {},
   "outputs": [
    {
     "data": {
      "text/plain": [
       "'d:\\\\Public Projects\\\\ML - MLOps\\\\chilly_price_predictor'"
      ]
     },
     "execution_count": 5,
     "metadata": {},
     "output_type": "execute_result"
    }
   ],
   "source": [
    "import os\n",
    "os.chdir('..')\n",
    "%pwd"
   ]
  },
  {
   "cell_type": "code",
   "execution_count": 6,
   "id": "fce36ce5",
   "metadata": {},
   "outputs": [
    {
     "data": {
      "text/html": [
       "<div>\n",
       "<style scoped>\n",
       "    .dataframe tbody tr th:only-of-type {\n",
       "        vertical-align: middle;\n",
       "    }\n",
       "\n",
       "    .dataframe tbody tr th {\n",
       "        vertical-align: top;\n",
       "    }\n",
       "\n",
       "    .dataframe thead th {\n",
       "        text-align: right;\n",
       "    }\n",
       "</style>\n",
       "<table border=\"1\" class=\"dataframe\">\n",
       "  <thead>\n",
       "    <tr style=\"text-align: right;\">\n",
       "      <th></th>\n",
       "      <th>date</th>\n",
       "      <th>temp</th>\n",
       "      <th>precip</th>\n",
       "      <th>humidity</th>\n",
       "      <th>windspeed</th>\n",
       "      <th>cloudcover</th>\n",
       "      <th>dew</th>\n",
       "      <th>yesterday</th>\n",
       "      <th>today</th>\n",
       "      <th>year_month</th>\n",
       "      <th>dollar_rate</th>\n",
       "    </tr>\n",
       "  </thead>\n",
       "  <tbody>\n",
       "    <tr>\n",
       "      <th>0</th>\n",
       "      <td>2021-01-01</td>\n",
       "      <td>25.0</td>\n",
       "      <td>6.778</td>\n",
       "      <td>83.6</td>\n",
       "      <td>17.3</td>\n",
       "      <td>76.7</td>\n",
       "      <td>21.8</td>\n",
       "      <td>395.0</td>\n",
       "      <td>325.0</td>\n",
       "      <td>2021-01</td>\n",
       "      <td>191.75</td>\n",
       "    </tr>\n",
       "    <tr>\n",
       "      <th>1</th>\n",
       "      <td>2021-01-04</td>\n",
       "      <td>25.0</td>\n",
       "      <td>16.828</td>\n",
       "      <td>93.3</td>\n",
       "      <td>13.7</td>\n",
       "      <td>95.0</td>\n",
       "      <td>23.8</td>\n",
       "      <td>325.0</td>\n",
       "      <td>365.0</td>\n",
       "      <td>2021-01</td>\n",
       "      <td>191.75</td>\n",
       "    </tr>\n",
       "    <tr>\n",
       "      <th>2</th>\n",
       "      <td>2021-01-05</td>\n",
       "      <td>25.5</td>\n",
       "      <td>5.183</td>\n",
       "      <td>89.8</td>\n",
       "      <td>10.4</td>\n",
       "      <td>83.9</td>\n",
       "      <td>23.6</td>\n",
       "      <td>365.0</td>\n",
       "      <td>330.0</td>\n",
       "      <td>2021-01</td>\n",
       "      <td>191.75</td>\n",
       "    </tr>\n",
       "    <tr>\n",
       "      <th>3</th>\n",
       "      <td>2021-01-06</td>\n",
       "      <td>26.0</td>\n",
       "      <td>7.048</td>\n",
       "      <td>87.5</td>\n",
       "      <td>6.5</td>\n",
       "      <td>77.9</td>\n",
       "      <td>23.6</td>\n",
       "      <td>330.0</td>\n",
       "      <td>295.0</td>\n",
       "      <td>2021-01</td>\n",
       "      <td>191.75</td>\n",
       "    </tr>\n",
       "    <tr>\n",
       "      <th>4</th>\n",
       "      <td>2021-01-07</td>\n",
       "      <td>26.2</td>\n",
       "      <td>30.440</td>\n",
       "      <td>86.2</td>\n",
       "      <td>10.8</td>\n",
       "      <td>78.4</td>\n",
       "      <td>23.5</td>\n",
       "      <td>295.0</td>\n",
       "      <td>365.0</td>\n",
       "      <td>2021-01</td>\n",
       "      <td>191.75</td>\n",
       "    </tr>\n",
       "  </tbody>\n",
       "</table>\n",
       "</div>"
      ],
      "text/plain": [
       "         date  temp  precip  humidity  windspeed  cloudcover   dew  yesterday  \\\n",
       "0  2021-01-01  25.0   6.778      83.6       17.3        76.7  21.8      395.0   \n",
       "1  2021-01-04  25.0  16.828      93.3       13.7        95.0  23.8      325.0   \n",
       "2  2021-01-05  25.5   5.183      89.8       10.4        83.9  23.6      365.0   \n",
       "3  2021-01-06  26.0   7.048      87.5        6.5        77.9  23.6      330.0   \n",
       "4  2021-01-07  26.2  30.440      86.2       10.8        78.4  23.5      295.0   \n",
       "\n",
       "   today year_month  dollar_rate  \n",
       "0  325.0    2021-01       191.75  \n",
       "1  365.0    2021-01       191.75  \n",
       "2  330.0    2021-01       191.75  \n",
       "3  295.0    2021-01       191.75  \n",
       "4  365.0    2021-01       191.75  "
      ]
     },
     "execution_count": 6,
     "metadata": {},
     "output_type": "execute_result"
    }
   ],
   "source": [
    "import pandas as pd\n",
    "\n",
    "data = pd.read_csv('artifacts\\data_ingestion\\Green Chilly Prices 21-25 with Dollar Rate.csv')\n",
    "data.head()"
   ]
  },
  {
   "cell_type": "code",
   "execution_count": 7,
   "id": "24c9bff0",
   "metadata": {},
   "outputs": [],
   "source": [
    "from dataclasses import dataclass\n",
    "from pathlib import Path\n",
    "\n",
    "@dataclass(frozen=True)\n",
    "class DataValidationConfig:\n",
    "    root_dir: Path\n",
    "    status_file: Path\n",
    "    unzip_data_dir: Path\n",
    "    all_schema: dict"
   ]
  },
  {
   "cell_type": "code",
   "execution_count": 8,
   "id": "b8d7b780",
   "metadata": {},
   "outputs": [],
   "source": [
    "from MLOps.constants import *\n",
    "from MLOps.utils.common import read_yaml, create_directories\n",
    "\n",
    "class ConfigurationManager:\n",
    "    def __init__(self, config_file_path=CONFIG_FILE_PATH, params_file_path=PARAMS_FILE_PATH, schema_file_path=SCHEMA_FILE_PATH):\n",
    "        \n",
    "        self.config = read_yaml(config_file_path)\n",
    "        self.params = read_yaml(params_file_path)\n",
    "        self.schema = read_yaml(schema_file_path)\n",
    "        create_directories(list_of_directories=[self.config.artifacts_root])\n",
    "    \n",
    "    def get_data_validation_config(self) -> DataValidationConfig:\n",
    "        data_validation_config = self.config.data_validation\n",
    "        schema = self.schema.COLUMNS\n",
    "        create_directories([data_validation_config.root_dir])\n",
    "        return DataValidationConfig(\n",
    "            root_dir=data_validation_config.root_dir,\n",
    "            status_file=data_validation_config.STATUS_FILE,\n",
    "            unzip_data_dir=data_validation_config.unzip_data_dir,\n",
    "            all_schema=schema\n",
    "        )"
   ]
  },
  {
   "cell_type": "code",
   "execution_count": 9,
   "id": "ddd5697c",
   "metadata": {},
   "outputs": [],
   "source": [
    "import os\n",
    "from MLOps import logger"
   ]
  },
  {
   "cell_type": "code",
   "execution_count": 10,
   "id": "bf777a9d",
   "metadata": {},
   "outputs": [],
   "source": [
    "class DataValidation:\n",
    "    def __init__(self, config: DataValidationConfig):\n",
    "        self.config = config\n",
    "\n",
    "    def validate_all_columns(self)-> bool:\n",
    "        try:\n",
    "            validation_status = None\n",
    "            \n",
    "            data = pd.read_csv(self.config.unzip_data_dir)\n",
    "            all_columns = list(data.columns)\n",
    "            \n",
    "            schema = self.config.all_schema.keys()\n",
    "            \n",
    "            for cols in all_columns:\n",
    "                if cols not in schema:\n",
    "                    validation_status = False\n",
    "                    with open(self.config.status_file, 'w') as f:\n",
    "                        f.write(f\"Validation status: {validation_status}\")\n",
    "                    break\n",
    "                else:\n",
    "                    validation_status = True\n",
    "                    with open(self.config.status_file, 'w') as f:\n",
    "                        f.write(f\"Validation status: {validation_status}\")\n",
    "                        \n",
    "            return validation_status\n",
    "        except Exception as e:\n",
    "            raise e\n",
    "        "
   ]
  },
  {
   "cell_type": "code",
   "execution_count": 11,
   "id": "b5fffd10",
   "metadata": {},
   "outputs": [
    {
     "name": "stdout",
     "output_type": "stream",
     "text": [
      "2025-07-06 22:50:50,572 - MLOpsLogger - INFO - >>>>>>>>> stage Data Validation Stage started <<<<<<<<\n",
      "Directory already exists: artifacts\n",
      "Created directory: artifacts\\data_validation\n",
      "2025-07-06 22:50:50,632 - MLOpsLogger - INFO - Data validation status: True\n",
      "2025-07-06 22:50:50,634 - MLOpsLogger - INFO - >>>>>>>>> stage Data Validation Stage completed <<<<<<<<\n"
     ]
    }
   ],
   "source": [
    "try:\n",
    "    logger.info(\">>>>>>>>> stage Data Validation Stage started <<<<<<<<\")\n",
    "    config_manager = ConfigurationManager()\n",
    "    data_validation_config = config_manager.get_data_validation_config()\n",
    "    data_validation = DataValidation(config=data_validation_config)\n",
    "    status = data_validation.validate_all_columns()\n",
    "    logger.info(f\"Data validation status: {status}\")\n",
    "    logger.info(\">>>>>>>>> stage Data Validation Stage completed <<<<<<<<\")\n",
    "except Exception as e:\n",
    "    logger.exception(e)\n",
    "    raise e"
   ]
  },
  {
   "cell_type": "code",
   "execution_count": null,
   "id": "612fab12",
   "metadata": {},
   "outputs": [],
   "source": []
  }
 ],
 "metadata": {
  "kernelspec": {
   "display_name": "mlops",
   "language": "python",
   "name": "python3"
  },
  "language_info": {
   "codemirror_mode": {
    "name": "ipython",
    "version": 3
   },
   "file_extension": ".py",
   "mimetype": "text/x-python",
   "name": "python",
   "nbconvert_exporter": "python",
   "pygments_lexer": "ipython3",
   "version": "3.11.13"
  }
 },
 "nbformat": 4,
 "nbformat_minor": 5
}
