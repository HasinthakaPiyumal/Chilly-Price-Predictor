{
 "cells": [
  {
   "cell_type": "code",
   "execution_count": 2,
   "id": "66c5d26a",
   "metadata": {},
   "outputs": [
    {
     "data": {
      "text/plain": [
       "'d:\\\\Programming\\\\MachineLearning\\\\MLOPs\\\\End to End ML PipeLine'"
      ]
     },
     "execution_count": 2,
     "metadata": {},
     "output_type": "execute_result"
    }
   ],
   "source": [
    "import os\n",
    "os.chdir('..')\n",
    "%pwd"
   ]
  },
  {
   "cell_type": "code",
   "execution_count": 3,
   "id": "5329f618",
   "metadata": {},
   "outputs": [],
   "source": [
    "from dataclasses import dataclass\n",
    "from pathlib import Path"
   ]
  },
  {
   "cell_type": "code",
   "execution_count": 4,
   "id": "c0b7d08b",
   "metadata": {},
   "outputs": [],
   "source": [
    "@dataclass(frozen=True)\n",
    "class ModelEvaluationConfig:\n",
    "    root_dir: Path\n",
    "    model_path: Path\n",
    "    test_data_path: Path\n",
    "    all_param: dict\n",
    "    metric_file_path: Path\n",
    "    target_column: str"
   ]
  },
  {
   "cell_type": "code",
   "execution_count": 5,
   "id": "97dd14a8",
   "metadata": {},
   "outputs": [],
   "source": [
    "from MLOps.constants import *\n",
    "from MLOps.utils.common import read_yaml, create_directories,save_json"
   ]
  },
  {
   "cell_type": "code",
   "execution_count": 6,
   "id": "350f80f0",
   "metadata": {},
   "outputs": [],
   "source": [
    "class ConfigurationManager:\n",
    "    def __init__(self, config_file_path=CONFIG_FILE_PATH, params_file_path=PARAMS_FILE_PATH, schema_file_path=SCHEMA_FILE_PATH):\n",
    "        print(f\"ConfigurationManager initialized with config: {config_file_path}, params: {params_file_path}, schema: {schema_file_path}\")\n",
    "        self.config = read_yaml(config_file_path)\n",
    "        self.params = read_yaml(params_file_path)\n",
    "        self.schema = read_yaml(schema_file_path)\n",
    "        create_directories(list_of_directories=[self.config.artifacts_root])\n",
    "        \n",
    "        \n",
    "    def get_model_evaluation_config(self) -> ModelEvaluationConfig:\n",
    "        config = self.config.model_evaluation\n",
    "        params = self.params.ElasticNet\n",
    "        \n",
    "        model_evaluation_config = ModelEvaluationConfig(\n",
    "            root_dir=config.root_dir,\n",
    "            model_path=config.model_path,\n",
    "            test_data_path=config.test_data_path,\n",
    "            all_param=params,\n",
    "            metric_file_path=config.metric_file_path,\n",
    "            target_column=self.schema.TARGET_COLUMN.name\n",
    "        )\n",
    "        print(model_evaluation_config)\n",
    "        \n",
    "        return model_evaluation_config"
   ]
  },
  {
   "cell_type": "code",
   "execution_count": 7,
   "id": "94921865",
   "metadata": {},
   "outputs": [],
   "source": [
    "from sklearn.linear_model import ElasticNet\n",
    "from sklearn.metrics import mean_squared_error,mean_absolute_error,r2_score\n",
    "import numpy as np,pandas as pd\n",
    "import joblib\n",
    "\n",
    "class ModelEvaluation:\n",
    "    def __init__(self, config: ModelEvaluationConfig):\n",
    "        self.config = config\n",
    "        self.model = joblib.load(self.config.model_path)\n",
    "        self.test_data = pd.read_csv(self.config.test_data_path)\n",
    "        self.target_column = self.config.target_column\n",
    "        \n",
    "    def evaluate_model(self,y_act,y_pred):\n",
    "        rmse = np.sqrt(mean_squared_error(y_act,y_pred))\n",
    "        mae = mean_absolute_error(y_act,y_pred)\n",
    "        r2 = r2_score(y_act,y_pred)\n",
    "        return rmse,mae,r2\n",
    "\n",
    "    def evaluate(self):\n",
    "        X_test = self.test_data.drop(columns=[self.target_column])\n",
    "        y_test = self.test_data[self.target_column]\n",
    "        \n",
    "        y_pred = self.model.predict(X_test)\n",
    "        \n",
    "        rmse, mae, r2 = self.evaluate_model(y_test, y_pred)\n",
    "        \n",
    "        metrics = {\n",
    "            \"rmse\": rmse,\n",
    "            \"mae\": mae,\n",
    "            \"r2\": r2\n",
    "        }\n",
    "        \n",
    "        save_json(self.config.metric_file_path,metrics,)"
   ]
  },
  {
   "cell_type": "code",
   "execution_count": 8,
   "id": "ec9a42c3",
   "metadata": {},
   "outputs": [
    {
     "name": "stdout",
     "output_type": "stream",
     "text": [
      "2025-07-02 04:27:26,313 - MLOpsLogger - INFO - >>>>>>>>> stage Model Evaluation Stage started <<<<<<<<\n",
      "ConfigurationManager initialized with config: config\\config.yaml, params: params.yaml, schema: schema.yaml\n",
      "Directory already exists: artifacts\n",
      "ModelEvaluationConfig(root_dir='artifacts/model_evaluation', model_path='artifacts/model_trainer/model.joblib', test_data_path='artifacts/data_transformation/test.csv', all_param=ConfigBox({'alpha': 0.1, 'l1_ratio': 0.01, 'random_state': 12}), metric_file_path='artifacts/model_evaluation/metrics.json', target_column='quality')\n",
      "JSON data saved to: artifacts\\model_evaluation\\metrics.json\n",
      "2025-07-02 04:27:26,367 - MLOpsLogger - INFO - >>>>>>>>> stage Model Evaluation Stage completed <<<<<<<<\n"
     ]
    }
   ],
   "source": [
    "from MLOps import logger\n",
    "try:\n",
    "    logger.info(\">>>>>>>>> stage Model Evaluation Stage started <<<<<<<<\")\n",
    "    config_manager = ConfigurationManager()\n",
    "    model_evaluation_config = config_manager.get_model_evaluation_config()\n",
    "    model_evaluation = ModelEvaluation(config=model_evaluation_config)\n",
    "    model_evaluation.evaluate()\n",
    "    logger.info(\">>>>>>>>> stage Model Evaluation Stage completed <<<<<<<<\")\n",
    "except Exception as e:\n",
    "    logger.error(f\"Error in Model Evaluation Stage: {e}\")\n",
    "    raise e"
   ]
  },
  {
   "cell_type": "code",
   "execution_count": null,
   "id": "b4806adc",
   "metadata": {},
   "outputs": [],
   "source": []
  }
 ],
 "metadata": {
  "kernelspec": {
   "display_name": "mlops",
   "language": "python",
   "name": "python3"
  },
  "language_info": {
   "codemirror_mode": {
    "name": "ipython",
    "version": 3
   },
   "file_extension": ".py",
   "mimetype": "text/x-python",
   "name": "python",
   "nbconvert_exporter": "python",
   "pygments_lexer": "ipython3",
   "version": "3.11.13"
  }
 },
 "nbformat": 4,
 "nbformat_minor": 5
}
