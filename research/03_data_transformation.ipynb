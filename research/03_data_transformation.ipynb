{
 "cells": [
  {
   "cell_type": "code",
   "execution_count": 1,
   "id": "729ddaef",
   "metadata": {},
   "outputs": [],
   "source": [
    "import os\n",
    "os.chdir('..')"
   ]
  },
  {
   "cell_type": "code",
   "execution_count": 2,
   "id": "adc126ea",
   "metadata": {},
   "outputs": [],
   "source": [
    "from dataclasses import dataclass\n",
    "from pathlib import Path\n",
    "from MLOps import logger\n",
    "\n",
    "@dataclass(frozen=True)\n",
    "class DataTransformationConfig:\n",
    "    root_dir: Path\n",
    "    data_path: Path"
   ]
  },
  {
   "cell_type": "code",
   "execution_count": 3,
   "id": "8a7283f6",
   "metadata": {},
   "outputs": [],
   "source": [
    "from MLOps.constants import *\n",
    "from MLOps.utils.common import read_yaml, create_directories\n",
    "\n",
    "class ConfigurationManager:\n",
    "    def __init__(self, config_file_path=CONFIG_FILE_PATH, params_file_path=PARAMS_FILE_PATH, schema_file_path=SCHEMA_FILE_PATH):\n",
    "        \n",
    "        self.config = read_yaml(config_file_path)\n",
    "        self.params = read_yaml(params_file_path)\n",
    "        self.schema = read_yaml(schema_file_path)\n",
    "        create_directories(list_of_directories=[self.config.artifacts_root])\n",
    "        \n",
    "    def get_data_transformation_config(self) -> DataTransformationConfig:\n",
    "        data_transformation_config = self.config.data_transformation\n",
    "        schema = self.schema.COLUMNS\n",
    "        create_directories([data_transformation_config.root_dir])\n",
    "        return DataTransformationConfig(\n",
    "            root_dir=data_transformation_config.root_dir,\n",
    "            data_path=data_transformation_config.data_path,\n",
    "        )"
   ]
  },
  {
   "cell_type": "code",
   "execution_count": 15,
   "id": "73aef72a",
   "metadata": {},
   "outputs": [],
   "source": [
    "from sklearn.model_selection import train_test_split\n",
    "import pandas as pd\n",
    "\n",
    "class DataTransformation:\n",
    "    def __init__(self, config: DataTransformationConfig):\n",
    "        self.config = config\n",
    "\n",
    "    def train_test_split_and_date_transformation(self):\n",
    "        data = pd.read_csv(self.config.data_path)\n",
    "        \n",
    "        data.date = pd.to_datetime(data.date)\n",
    "        train_set, test_set = train_test_split(data, test_size=0.2, random_state=42)\n",
    "        # Save all data to Future accuracy improvement\n",
    "        data['today'] = data['today'] / data['dollar_rate']\n",
    "        \n",
    "        last_30_days = data[:-30].copy()\n",
    "        data = data.copy()\n",
    "        data.to_csv(os.path.join(self.config.root_dir, 'full.csv'), index=False)\n",
    "        data[:-30].to_csv(os.path.join(self.config.root_dir, 'train.csv'), index=False)\n",
    "        test_set = data[-30:].copy()\n",
    "        test_set['today'] = test_set['today'] * test_set['dollar_rate']\n",
    "        test_set.to_csv(os.path.join(self.config.root_dir, 'test.csv'), index=False)\n",
    "        \n",
    "        return train_set, test_set"
   ]
  },
  {
   "cell_type": "code",
   "execution_count": 16,
   "id": "7bb2d097",
   "metadata": {},
   "outputs": [
    {
     "name": "stdout",
     "output_type": "stream",
     "text": [
      "2025-07-07 00:51:56,176 - MLOpsLogger - INFO - >>>>>>>>> stage Data T Stage started <<<<<<<<\n",
      "Directory already exists: artifacts\n",
      "Directory already exists: artifacts\\data_transformation\n",
      "2025-07-07 00:51:56,261 - MLOpsLogger - INFO - >>>>>>>>> stage Data Validation Stage completed <<<<<<<<\n"
     ]
    }
   ],
   "source": [
    "try:\n",
    "    logger.info(\">>>>>>>>> stage Data T Stage started <<<<<<<<\")\n",
    "    config_manager = ConfigurationManager()\n",
    "    data_transformation_config = config_manager.get_data_transformation_config()\n",
    "    data_transformation = DataTransformation(config=data_transformation_config)\n",
    "    data_transformation.train_test_split_and_date_transformation()\n",
    "    logger.info(\">>>>>>>>> stage Data Validation Stage completed <<<<<<<<\")\n",
    "except Exception as e:\n",
    "    raise e"
   ]
  },
  {
   "cell_type": "code",
   "execution_count": null,
   "id": "992f1f73",
   "metadata": {},
   "outputs": [],
   "source": []
  }
 ],
 "metadata": {
  "kernelspec": {
   "display_name": "mlops",
   "language": "python",
   "name": "python3"
  },
  "language_info": {
   "codemirror_mode": {
    "name": "ipython",
    "version": 3
   },
   "file_extension": ".py",
   "mimetype": "text/x-python",
   "name": "python",
   "nbconvert_exporter": "python",
   "pygments_lexer": "ipython3",
   "version": "3.11.13"
  }
 },
 "nbformat": 4,
 "nbformat_minor": 5
}
