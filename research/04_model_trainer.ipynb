{
 "cells": [
  {
   "cell_type": "code",
   "execution_count": 2,
   "id": "72e69f6c",
   "metadata": {},
   "outputs": [],
   "source": [
    "import os\n",
    "os.chdir('..')"
   ]
  },
  {
   "cell_type": "code",
   "execution_count": 3,
   "id": "a0a4a6c6",
   "metadata": {},
   "outputs": [],
   "source": [
    "from dataclasses import dataclass\n",
    "from pathlib import Path"
   ]
  },
  {
   "cell_type": "code",
   "execution_count": 4,
   "id": "2acf0659",
   "metadata": {},
   "outputs": [],
   "source": [
    "@dataclass(frozen=True)\n",
    "class DataTransformationConfig:\n",
    "    root_dir: Path\n",
    "    train_data_path: Path\n",
    "    test_data_path: Path\n",
    "    target_column: str\n",
    "    model_name: str\n",
    "    alpha: float\n",
    "    l1_ratio: float\n",
    "    random_state: int\n",
    "    n_estimators: int\n",
    "    learning_rate: float"
   ]
  },
  {
   "cell_type": "code",
   "execution_count": 5,
   "id": "a8c0fae4",
   "metadata": {},
   "outputs": [],
   "source": [
    "from MLOps.constants import *\n",
    "from MLOps.utils.common import read_yaml, create_directories\n",
    "\n",
    "class ConfigurationManager:\n",
    "    def __init__(self, config_file_path=CONFIG_FILE_PATH, params_file_path=PARAMS_FILE_PATH, schema_file_path=SCHEMA_FILE_PATH):\n",
    "        \n",
    "        self.config = read_yaml(config_file_path)\n",
    "        self.params = read_yaml(params_file_path)\n",
    "        self.schema = read_yaml(schema_file_path)\n",
    "        create_directories(list_of_directories=[self.config.artifacts_root])\n",
    "        \n",
    "    def get_model_trainer_config(self) -> DataTransformationConfig:\n",
    "        model_trainer_config = self.config.model_trainer\n",
    "        schema = self.schema.TARGET_COLUMN\n",
    "        params = self.params.ElasticNet\n",
    "        create_directories([model_trainer_config.root_dir])\n",
    "        return DataTransformationConfig(\n",
    "            root_dir=model_trainer_config.root_dir,\n",
    "            train_data_path=model_trainer_config.train_data_path,\n",
    "            test_data_path=model_trainer_config.test_data_path,\n",
    "            model_name=model_trainer_config.model_name,\n",
    "            alpha=params.alpha,\n",
    "            l1_ratio=params.l1_ratio,\n",
    "            random_state=params.random_state,\n",
    "            n_estimators=params.n_estimators,\n",
    "            learning_rate=params.learning_rate,\n",
    "            target_column=schema.name\n",
    "        )"
   ]
  },
  {
   "cell_type": "code",
   "execution_count": 6,
   "id": "bfb84082",
   "metadata": {},
   "outputs": [],
   "source": [
    "import pandas as pd\n",
    "import os\n",
    "from MLOps import logger\n",
    "from sklearn.linear_model import ElasticNet\n",
    "import joblib\n",
    "import xgboost as xgb"
   ]
  },
  {
   "cell_type": "code",
   "execution_count": 29,
   "id": "eaf53dec",
   "metadata": {},
   "outputs": [],
   "source": [
    "from prophet import Prophet\n",
    "import cloudpickle \n",
    "from datetime import datetime\n",
    "class Predictor:\n",
    "    def __init__(self, model,dollar_rate, last_date):\n",
    "        self.model = model\n",
    "        self.dollar_rate = dollar_rate\n",
    "        self.last_date = last_date\n",
    "\n",
    "    def predict(self, periods,freq='W',include_history=False,start_from=None) -> pd.Series:\n",
    "        date_diff = (datetime.now() - pd.to_datetime(self.last_date)).days\n",
    "        future = self.model.make_future_dataframe(periods=periods+date_diff, freq=freq,include_history=include_history)  # monthly\n",
    "        predictions = self.model.predict(future)\n",
    "        \n",
    "        if not include_history:\n",
    "            predictions = predictions[predictions['ds'] > datetime.now()]\n",
    "        elif include_history and start_from:\n",
    "            predictions = predictions[predictions['ds'] >= pd.to_datetime(start_from)]\n",
    "        predictions['yhat'] = predictions['yhat'] * self.dollar_rate  # Adjusting predictions based on dollar rate\n",
    "        predictions['yhat_lower'] = predictions['yhat_lower'] * self.dollar_rate\n",
    "        predictions['yhat_upper'] = predictions['yhat_upper'] * self.dollar_rate\n",
    "        return predictions\n",
    "\n",
    "class ModelTrainer:\n",
    "    def __init__(self, config: DataTransformationConfig):\n",
    "        self.config = config\n",
    "\n",
    "    def train(self):\n",
    "        print(f\"Training model with config: {self.config.train_data_path}\")\n",
    "        data = pd.read_csv(self.config.train_data_path)\n",
    "\n",
    "        train_data = data.copy()\n",
    "        train_data['date'] = pd.to_datetime(train_data['date'])\n",
    "        train_data = train_data.rename(columns={'date': 'ds', 'today': 'y'})\n",
    "        print(train_data.tail())\n",
    "        model = Prophet(yearly_seasonality=True)\n",
    "        model.fit(train_data)\n",
    "        \n",
    "        predictor = Predictor(model=model, dollar_rate=data.iloc[-1]['dollar_rate'],last_date = data.iloc[-1]['date'])\n",
    "        \n",
    "        model_file_path = os.path.join(self.config.root_dir, self.config.model_name)\n",
    "        # joblib.dump(predictor, model_file_path)\n",
    "        with open(model_file_path, 'wb') as f:\n",
    "            cloudpickle.dump(predictor, f)"
   ]
  },
  {
   "cell_type": "code",
   "execution_count": 30,
   "id": "ce173944",
   "metadata": {},
   "outputs": [
    {
     "name": "stdout",
     "output_type": "stream",
     "text": [
      "2025-07-07 01:26:57,735 - MLOpsLogger - INFO - >>>>>>>>> stage Model Trainer Stage started <<<<<<<<\n",
      "Directory already exists: artifacts\n",
      "Directory already exists: artifacts\\model_trainer\n",
      "Training model with config: artifacts/data_transformation/full.csv\n",
      "            ds  temp  precip  humidity  windspeed  cloudcover   dew  \\\n",
      "834 2025-06-30  28.7     0.0      74.0       25.9        70.0  22.6   \n",
      "835 2025-07-01  28.2     0.0      75.7       30.6        90.5  23.0   \n",
      "836 2025-07-02  28.1     0.1      71.2       32.0        81.6  22.0   \n",
      "837 2025-07-03  28.5     0.1      69.4       30.2        83.7  21.8   \n",
      "838 2025-07-04  28.9     0.0      66.6       29.5        64.0  21.3   \n",
      "\n",
      "     yesterday         y year_month  dollar_rate  \n",
      "834      490.0  1.467342    2025-06   299.861905  \n",
      "835      440.0  1.466881    2025-07   299.956250  \n",
      "836      440.0  1.250182    2025-07   299.956250  \n",
      "837      375.0  1.333528    2025-07   299.956250  \n",
      "838      400.0  1.316859    2025-07   299.956250  \n",
      "2025-07-07 01:26:57,782 - cmdstanpy - DEBUG - cmd: where.exe tbb.dll\n",
      "cwd: None\n",
      "2025-07-07 01:26:58,003 - cmdstanpy - DEBUG - TBB already found in load path\n",
      "2025-07-07 01:26:58,019 - prophet - INFO - Disabling daily seasonality. Run prophet with daily_seasonality=True to override this.\n",
      "2025-07-07 01:26:58,051 - cmdstanpy - DEBUG - input tempfile: C:\\Users\\Hasinthaka Piyumal\\AppData\\Local\\Temp\\tmpsny_7wkr\\nqpl2d3f.json\n",
      "2025-07-07 01:26:58,205 - cmdstanpy - DEBUG - input tempfile: C:\\Users\\Hasinthaka Piyumal\\AppData\\Local\\Temp\\tmpsny_7wkr\\h231q1k7.json\n",
      "2025-07-07 01:26:58,217 - cmdstanpy - DEBUG - idx 0\n",
      "2025-07-07 01:26:58,217 - cmdstanpy - DEBUG - running CmdStan, num_threads: None\n",
      "2025-07-07 01:26:58,217 - cmdstanpy - DEBUG - CmdStan args: ['C:\\\\Users\\\\Hasinthaka Piyumal\\\\.conda\\\\envs\\\\mlops\\\\Lib\\\\site-packages\\\\prophet\\\\stan_model\\\\prophet_model.bin', 'random', 'seed=68183', 'data', 'file=C:\\\\Users\\\\Hasinthaka Piyumal\\\\AppData\\\\Local\\\\Temp\\\\tmpsny_7wkr\\\\nqpl2d3f.json', 'init=C:\\\\Users\\\\Hasinthaka Piyumal\\\\AppData\\\\Local\\\\Temp\\\\tmpsny_7wkr\\\\h231q1k7.json', 'output', 'file=C:\\\\Users\\\\Hasinthaka Piyumal\\\\AppData\\\\Local\\\\Temp\\\\tmpsny_7wkr\\\\prophet_modelw4_z7zzm\\\\prophet_model-20250707012658.csv', 'method=optimize', 'algorithm=lbfgs', 'iter=10000']\n"
     ]
    },
    {
     "name": "stderr",
     "output_type": "stream",
     "text": [
      "01:26:58 - cmdstanpy - INFO - Chain [1] start processing\n"
     ]
    },
    {
     "name": "stdout",
     "output_type": "stream",
     "text": [
      "2025-07-07 01:26:58,217 - cmdstanpy - INFO - Chain [1] start processing\n"
     ]
    },
    {
     "name": "stderr",
     "output_type": "stream",
     "text": [
      "01:26:58 - cmdstanpy - INFO - Chain [1] done processing\n"
     ]
    },
    {
     "name": "stdout",
     "output_type": "stream",
     "text": [
      "2025-07-07 01:26:58,427 - cmdstanpy - INFO - Chain [1] done processing\n",
      "2025-07-07 01:26:58,460 - MLOpsLogger - INFO - >>>>>>>>> stage Model Trainer Stage completed <<<<<<<<\n"
     ]
    }
   ],
   "source": [
    "try:\n",
    "    logger.info(\">>>>>>>>> stage Model Trainer Stage started <<<<<<<<\")\n",
    "    config_manager = ConfigurationManager()\n",
    "    model_trainer_config = config_manager.get_model_trainer_config()\n",
    "    model_trainer = ModelTrainer(config=model_trainer_config)\n",
    "    model_trainer.train()\n",
    "    logger.info(\">>>>>>>>> stage Model Trainer Stage completed <<<<<<<<\")\n",
    "except Exception as e: \n",
    "    logger.error(f\"Error in Model Trainer Stage: {e}\")\n",
    "    raise e"
   ]
  },
  {
   "cell_type": "code",
   "execution_count": null,
   "id": "3a0d74ff",
   "metadata": {},
   "outputs": [],
   "source": []
  }
 ],
 "metadata": {
  "kernelspec": {
   "display_name": "mlops",
   "language": "python",
   "name": "python3"
  },
  "language_info": {
   "codemirror_mode": {
    "name": "ipython",
    "version": 3
   },
   "file_extension": ".py",
   "mimetype": "text/x-python",
   "name": "python",
   "nbconvert_exporter": "python",
   "pygments_lexer": "ipython3",
   "version": "3.11.13"
  }
 },
 "nbformat": 4,
 "nbformat_minor": 5
}
