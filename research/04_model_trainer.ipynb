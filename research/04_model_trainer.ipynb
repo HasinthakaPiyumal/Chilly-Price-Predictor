{
 "cells": [
  {
   "cell_type": "code",
   "execution_count": 1,
   "id": "72e69f6c",
   "metadata": {},
   "outputs": [],
   "source": [
    "import os\n",
    "os.chdir('..')"
   ]
  },
  {
   "cell_type": "code",
   "execution_count": 2,
   "id": "a0a4a6c6",
   "metadata": {},
   "outputs": [],
   "source": [
    "from dataclasses import dataclass\n",
    "from pathlib import Path"
   ]
  },
  {
   "cell_type": "code",
   "execution_count": 13,
   "id": "2acf0659",
   "metadata": {},
   "outputs": [],
   "source": [
    "@dataclass(frozen=True)\n",
    "class DataTransformationConfig:\n",
    "    root_dir: Path\n",
    "    train_data_path: Path\n",
    "    test_data_path: Path\n",
    "    target_column: str\n",
    "    model_name: str\n",
    "    alpha: float\n",
    "    l1_ratio: float\n",
    "    random_state: int"
   ]
  },
  {
   "cell_type": "code",
   "execution_count": 14,
   "id": "a8c0fae4",
   "metadata": {},
   "outputs": [],
   "source": [
    "from MLOps.constants import *\n",
    "from MLOps.utils.common import read_yaml, create_directories\n",
    "\n",
    "class ConfigurationManager:\n",
    "    def __init__(self, config_file_path=CONFIG_FILE_PATH, params_file_path=PARAMS_FILE_PATH, schema_file_path=SCHEMA_FILE_PATH):\n",
    "        \n",
    "        self.config = read_yaml(config_file_path)\n",
    "        self.params = read_yaml(params_file_path)\n",
    "        self.schema = read_yaml(schema_file_path)\n",
    "        create_directories(list_of_directories=[self.config.artifacts_root])\n",
    "        \n",
    "    def get_model_trainer_config(self) -> DataTransformationConfig:\n",
    "        model_trainer_config = self.config.model_trainer\n",
    "        schema = self.schema.TARGET_COLUMN\n",
    "        params = self.params.ElasticNet\n",
    "        create_directories([model_trainer_config.root_dir])\n",
    "        return DataTransformationConfig(\n",
    "            root_dir=model_trainer_config.root_dir,\n",
    "            train_data_path=model_trainer_config.train_data_path,\n",
    "            test_data_path=model_trainer_config.test_data_path,\n",
    "            model_name=model_trainer_config.model_name,\n",
    "            alpha=params.alpha,\n",
    "            l1_ratio=params.l1_ratio,\n",
    "            random_state=params.random_state,\n",
    "            target_column=schema.name\n",
    "        )"
   ]
  },
  {
   "cell_type": "code",
   "execution_count": 15,
   "id": "bfb84082",
   "metadata": {},
   "outputs": [],
   "source": [
    "import pandas as pd\n",
    "import os\n",
    "from MLOps import logger\n",
    "from sklearn.linear_model import ElasticNet\n",
    "import joblib"
   ]
  },
  {
   "cell_type": "code",
   "execution_count": null,
   "id": "eaf53dec",
   "metadata": {},
   "outputs": [],
   "source": [
    "class ModelTrainer:\n",
    "    def __init__(self, config: DataTransformationConfig):\n",
    "        self.config = config\n",
    "\n",
    "    def train(self):\n",
    "        train_data = pd.read_csv(self.config.train_data_path)\n",
    "        test_data = pd.read_csv(self.config.test_data_path)\n",
    "\n",
    "        X_train = train_data.drop(columns=[self.config.target_column])\n",
    "        y_train = train_data[self.config.target_column]\n",
    "        X_test = test_data.drop(columns=[self.config.target_column])\n",
    "        y_test = test_data[self.config.target_column]\n",
    "\n",
    "        model = ElasticNet(\n",
    "            alpha=self.config.alpha,\n",
    "            l1_ratio=self.config.l1_ratio,\n",
    "            random_state=self.config.random_state\n",
    "        )\n",
    "        \n",
    "        model.fit(X_train, y_train)\n",
    "        \n",
    "        model_file_path = os.path.join(self.config.root_dir, self.config.model_name)\n",
    "        joblib.dump(model, model_file_path)"
   ]
  },
  {
   "cell_type": "code",
   "execution_count": 18,
   "id": "ce173944",
   "metadata": {},
   "outputs": [
    {
     "name": "stdout",
     "output_type": "stream",
     "text": [
      "2025-07-02 03:30:16,088 - MLOpsLogger - INFO - >>>>>>>>> stage Model Trainer Stage started <<<<<<<<\n",
      "Directory already exists: artifacts\n",
      "Directory already exists: artifacts\\model_trainer\n",
      "2025-07-02 03:30:16,207 - MLOpsLogger - INFO - >>>>>>>>> stage Model Trainer Stage completed <<<<<<<<\n"
     ]
    }
   ],
   "source": [
    "try:\n",
    "    logger.info(\">>>>>>>>> stage Model Trainer Stage started <<<<<<<<\")\n",
    "    config_manager = ConfigurationManager()\n",
    "    model_trainer_config = config_manager.get_model_trainer_config()\n",
    "    model_trainer = ModelTrainer(config=model_trainer_config)\n",
    "    model_trainer.train()\n",
    "    logger.info(\">>>>>>>>> stage Model Trainer Stage completed <<<<<<<<\")\n",
    "except Exception as e: \n",
    "    logger.error(f\"Error in Model Trainer Stage: {e}\")\n",
    "    raise e"
   ]
  },
  {
   "cell_type": "code",
   "execution_count": null,
   "id": "3a0d74ff",
   "metadata": {},
   "outputs": [],
   "source": []
  }
 ],
 "metadata": {
  "kernelspec": {
   "display_name": "mlops",
   "language": "python",
   "name": "python3"
  },
  "language_info": {
   "codemirror_mode": {
    "name": "ipython",
    "version": 3
   },
   "file_extension": ".py",
   "mimetype": "text/x-python",
   "name": "python",
   "nbconvert_exporter": "python",
   "pygments_lexer": "ipython3",
   "version": "3.11.13"
  }
 },
 "nbformat": 4,
 "nbformat_minor": 5
}
